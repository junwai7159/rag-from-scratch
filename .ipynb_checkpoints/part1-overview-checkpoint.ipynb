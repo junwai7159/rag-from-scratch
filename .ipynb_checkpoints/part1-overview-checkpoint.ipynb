{
 "cells": [
  {
   "cell_type": "code",
   "execution_count": 1,
   "metadata": {},
   "outputs": [
    {
     "data": {
      "text/plain": [
       "True"
      ]
     },
     "execution_count": 1,
     "metadata": {},
     "output_type": "execute_result"
    }
   ],
   "source": [
    "import os\n",
    "from dotenv import load_dotenv\n",
    "from groq import Groq\n",
    "\n",
    "load_dotenv()"
   ]
  },
  {
   "cell_type": "code",
   "execution_count": 2,
   "metadata": {},
   "outputs": [
    {
     "name": "stdout",
     "output_type": "stream",
     "text": [
      "Fast language models have become increasingly important in recent years due to their widespread applications and potential to revolutionize various industries. Here are some reasons why fast language models are crucial:\n",
      "\n",
      "1. **Improved Chatbots and Virtual Assistants**: Fast language models enable the development of more effective chatbots and virtual assistants. By quickly generating responses, these models can provide faster and more accurate customer service, leading to improved user experience and increased customer satisfaction.\n",
      "2. **Real-time Language Translation**: Fast language models can translate languages in real-time, enabling seamless communication across languages and cultures. This is particularly important in international business, global events, and refugee crises, where timely translation is crucial.\n",
      "3. **Sentiment Analysis and Opinion Mining**: Fast language models can analyze vast amounts of text data to determine sentiment and opinions, helping businesses and organizations make data-driven decisions. This application is particularly useful in social media monitoring, customer feedback analysis, and market research.\n",
      "4. **Content Generation and Summarization**: Fast language models can quickly generate content, such as articles, blog posts, or social media posts, freeing up human writers to focus on more creative and high-value tasks. Additionally, these models can summarize long documents or articles, saving time and increasing comprehension.\n",
      "5. **Automated Writing Tasks**: Fast language models can automate various writing tasks, such as email responses, product descriptions, or even entire documents. This can significantly reduce the workload of human writers and improve the efficiency of content creation.\n",
      "6. **Enhanced Customer Experience**: By providing personalized and context-aware responses, fast language models can improve the customer experience across various industries, such as finance, healthcare, and e-commerce.\n",
      "7. **Competitive Advantage**: Companies that adopt fast language models can gain a competitive advantage by leveraging their ability to quickly process and analyze large amounts of language data. This can lead to improved decision-making, increased efficiency, and enhanced customer satisfaction.\n",
      "8. **Research and Development**: Fast language models have the potential to accelerate research in natural language processing (NLP), machine learning, and artificial intelligence (AI). By providing faster and more accurate results, these models can expedite the development of new language-related technologies.\n",
      "9. **Accessibility and Inclusivity**: Fast language models can improve access to information for people with disabilities, non-native speakers, or those living in regions with limited language resources. By providing real-time translation and language support, these models can promote greater understanding and inclusion.\n",
      "10. **Scalability and Efficiency**: Fast language models can handle large volumes of data and scale efficiently, making them ideal for applications where data processing speed is critical, such as in financial institutions, healthcare organizations, or social media platforms.\n",
      "\n",
      "In summary, fast language models are crucial in various industries and applications due to their ability to quickly process and analyze large amounts of language data, providing numerous benefits, including improved customer experience, enhanced decision-making, and increased efficiency.\n"
     ]
    }
   ],
   "source": [
    "client = Groq(\n",
    "    api_key=os.environ.get(\"GROQ_API_KEY\"),\n",
    ")\n",
    "\n",
    "chat_completion = client.chat.completions.create(\n",
    "    messages=[\n",
    "        {\n",
    "            \"role\": \"user\",\n",
    "            \"content\": \"Explain the importance of fast language models\",\n",
    "        }\n",
    "    ],\n",
    "    model=\"llama3-8b-8192\",\n",
    ")\n",
    "\n",
    "print(chat_completion.choices[0].message.content)"
   ]
  }
 ],
 "metadata": {
  "kernelspec": {
   "display_name": "Python 3 (ipykernel)",
   "language": "python",
   "name": "python3"
  },
  "language_info": {
   "codemirror_mode": {
    "name": "ipython",
    "version": 3
   },
   "file_extension": ".py",
   "mimetype": "text/x-python",
   "name": "python",
   "nbconvert_exporter": "python",
   "pygments_lexer": "ipython3",
   "version": "3.10.9"
  }
 },
 "nbformat": 4,
 "nbformat_minor": 4
}
